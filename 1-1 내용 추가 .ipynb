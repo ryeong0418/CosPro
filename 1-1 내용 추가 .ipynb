{
 "cells": [
  {
   "cell_type": "markdown",
   "id": "00fc989b",
   "metadata": {},
   "source": [
    "### 추상 클래스 & 추상 메서드"
   ]
  },
  {
   "cell_type": "markdown",
   "id": "726f79e0",
   "metadata": {},
   "source": [
    "- 추상 클래스는 오직 상속에만 사용된다. "
   ]
  },
  {
   "cell_type": "code",
   "execution_count": 3,
   "id": "871bc331",
   "metadata": {},
   "outputs": [
    {
     "ename": "TypeError",
     "evalue": "Can't instantiate abstract class Student with abstract method go_to_school",
     "output_type": "error",
     "traceback": [
      "\u001b[1;31m---------------------------------------------------------------------------\u001b[0m",
      "\u001b[1;31mTypeError\u001b[0m                                 Traceback (most recent call last)",
      "Cell \u001b[1;32mIn[3], line 18\u001b[0m\n\u001b[0;32m     15\u001b[0m     \u001b[38;5;28;01mdef\u001b[39;00m \u001b[38;5;21mstudy\u001b[39m(\u001b[38;5;28mself\u001b[39m):\n\u001b[0;32m     16\u001b[0m         \u001b[38;5;28mprint\u001b[39m(\u001b[38;5;124m'\u001b[39m\u001b[38;5;124m공부하기\u001b[39m\u001b[38;5;124m'\u001b[39m)\n\u001b[1;32m---> 18\u001b[0m james \u001b[38;5;241m=\u001b[39m \u001b[43mStudent\u001b[49m\u001b[43m(\u001b[49m\u001b[43m)\u001b[49m\n\u001b[0;32m     19\u001b[0m james\u001b[38;5;241m.\u001b[39mstudy()\n",
      "\u001b[1;31mTypeError\u001b[0m: Can't instantiate abstract class Student with abstract method go_to_school"
     ]
    }
   ],
   "source": [
    "from abc import * # abc 모듈의 모든 클래스와 메소드 가지고옴\n",
    "\n",
    "class StudentBase(metaclass = ABCMeta):\n",
    "    \n",
    "    @abstractmethod\n",
    "    def study(self):\n",
    "        pass\n",
    "    \n",
    "    @abstractmethod\n",
    "    def go_to_school(self):\n",
    "        pass\n",
    "    \n",
    "class Student(StudentBase):\n",
    "    \n",
    "    def study(self):\n",
    "        print('공부하기')\n",
    "\n",
    "james = Student()\n",
    "james.study()"
   ]
  },
  {
   "cell_type": "code",
   "execution_count": 4,
   "id": "c510b1c8",
   "metadata": {},
   "outputs": [
    {
     "name": "stdout",
     "output_type": "stream",
     "text": [
      "공부하기\n",
      "학교가기\n"
     ]
    }
   ],
   "source": [
    "from abc import * # abc 모듈의 모든 클래스와 메소드 가지고옴\n",
    "\n",
    "class StudentBase(metaclass = ABCMeta):\n",
    "    \n",
    "    @abstractmethod\n",
    "    def study(self):\n",
    "        pass\n",
    "    \n",
    "    @abstractmethod\n",
    "    def go_to_school(self):\n",
    "        pass\n",
    "    \n",
    "class Student(StudentBase):\n",
    "    \n",
    "    def study(self):\n",
    "        print('공부하기')\n",
    "        \n",
    "    \n",
    "    def go_to_school(self):\n",
    "        print('학교가기')\n",
    "\n",
    "james = Student()\n",
    "james.study()\n",
    "james.go_to_school()"
   ]
  },
  {
   "cell_type": "markdown",
   "id": "f975377a",
   "metadata": {},
   "source": [
    "추상메서드를 빈 메서드로 만드는 이유 → 추상클래스는 인스턴스를 만들 수 없으니 추상 메서드를 호출할 일도 없다.<br>\n",
    "따라서 추상클래스는 오직 상속만 사용한다!"
   ]
  },
  {
   "cell_type": "markdown",
   "id": "dc736555",
   "metadata": {},
   "source": [
    "### 클래스 변수 & 인스턴스 변수"
   ]
  },
  {
   "cell_type": "code",
   "execution_count": 6,
   "id": "31b7497d",
   "metadata": {},
   "outputs": [
    {
     "data": {
      "text/plain": [
       "'lee'"
      ]
     },
     "execution_count": 6,
     "metadata": {},
     "output_type": "execute_result"
    }
   ],
   "source": [
    "class Account:\n",
    "    \n",
    "    num_accounts = 0 # 클래스 변수\n",
    "    \n",
    "    def __init__(self, name):\n",
    "        self.name = name # 인스턴스 변수\n",
    "        Account.num_accounts += 1\n",
    "        \n",
    "    def __del__(self):\n",
    "        Account.num_accounts -= 1\n",
    "        \n",
    "kim = Account('kim') # Account 클래스의 인스턴스를 생성하는 것 \n",
    "lee = Account('lee') # Account 클래스의 인스턴스를 생성하는 것 \n",
    "\n",
    "# 생성된 kim과 lee의 인스턴스에 계좌 소유자 정보가 제대로 저장되어 있는 확인/ 계좌 소유자 정보는 인스턴스 변수인 name에 바인딩하고 있다.\n",
    "\n",
    "print(kim.name) \n",
    "print(lee.name) "
   ]
  }
 ],
 "metadata": {
  "kernelspec": {
   "display_name": "Python 3 (ipykernel)",
   "language": "python",
   "name": "python3"
  },
  "language_info": {
   "codemirror_mode": {
    "name": "ipython",
    "version": 3
   },
   "file_extension": ".py",
   "mimetype": "text/x-python",
   "name": "python",
   "nbconvert_exporter": "python",
   "pygments_lexer": "ipython3",
   "version": "3.11.2"
  }
 },
 "nbformat": 4,
 "nbformat_minor": 5
}
